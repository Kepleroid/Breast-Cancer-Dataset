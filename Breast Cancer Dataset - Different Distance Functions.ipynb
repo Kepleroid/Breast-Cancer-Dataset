{
 "cells": [
  {
   "cell_type": "code",
   "execution_count": 9,
   "metadata": {},
   "outputs": [],
   "source": [
    "import pandas as pd\n",
    "import numpy as np\n",
    "import matplotlib.pyplot as plt\n",
    "import csv\n",
    "from sklearn.model_selection import train_test_split, cross_val_score, KFold\n",
    "from collections import defaultdict\n",
    "from sklearn import preprocessing\n",
    "from pandas.plotting import scatter_matrix\n",
    "import math\n",
    "from collections import Counter\n",
    "import random\n",
    "from statistics import mean\n",
    "import pandas\n",
    "from decimal import Decimal \n",
    "\n",
    "\n",
    "plt.rcParams['figure.figsize'] = (20,6)\n"
   ]
  },
  {
   "cell_type": "code",
   "execution_count": 11,
   "metadata": {},
   "outputs": [],
   "source": [
    "def read_file(fin):\n",
    "    labeled_data = []\n",
    "    with open(fin, 'r') as csv_file:\n",
    "        csv_reader = csv.reader(csv_file, delimiter=',')\n",
    "        for row in csv_reader:\n",
    "            if '?' in row:\n",
    "                continue\n",
    "            if row[0] == 'no-recurrence-events':\n",
    "                labeled_data.append(row[1:] + [False])\n",
    "            else:\n",
    "                labeled_data.append(row[1:] + [True])\n",
    "    return labeled_data\n",
    "                \n",
    "            \n",
    "data = read_file('breast-cancer.data.txt')\n",
    "\n",
    "\n",
    "    \n"
   ]
  },
  {
   "cell_type": "code",
   "execution_count": 12,
   "metadata": {},
   "outputs": [],
   "source": [
    "def train_test_split(data, test_size=0.3):\n",
    "    train = []\n",
    "    test = []\n",
    "    data = random.sample(data, len(data))\n",
    "      \n",
    "\n",
    "    test_length = int(len(data)*test_size)\n",
    "    for i in range(len(data)):\n",
    "        if i <= (len(data) - test_length):\n",
    "            train.append(data[i])\n",
    "        else:\n",
    "            test.append(data[i])\n",
    "    return train, test\n",
    "        \n",
    "train_data, test_data = train_test_split(data)\n",
    "test_length = len(test_data)\n",
    "    \n",
    "    "
   ]
  },
  {
   "cell_type": "code",
   "execution_count": 13,
   "metadata": {},
   "outputs": [],
   "source": [
    "def tran_form_dict(labeled_data):\n",
    "    \"\"\"Change the features of each instance into numbers and then place each instance into a dictionary with their\n",
    "    key being their label \"\"\"\n",
    "    feat_into_dict = {}\n",
    "    for feature_num in range(len(labeled_data[0])):\n",
    "        feature_values = [instance[feature_num] for instance in labeled_data]\n",
    "        x = 0\n",
    "        for i, item in enumerate(feature_values):\n",
    "            if item in feat_into_dict:\n",
    "                feature_values[i] = feat_into_dict[item]\n",
    "            else:\n",
    "                feat_into_dict[item] = x\n",
    "                feature_values[i] = feat_into_dict[item]\n",
    "                x += 1\n",
    "      \n",
    "    for instance in labeled_data:\n",
    "        for i, attribute in enumerate(instance):\n",
    "             instance[i] = feat_into_dict[attribute]\n",
    "                \n",
    "    #place each instance into dictionary\n",
    "    input_dict = defaultdict(list)\n",
    "    for instance in labeled_data:\n",
    "        if instance[-1] == 0:\n",
    "            input_dict[False].append(instance)\n",
    "        else:\n",
    "            input_dict[True].append(instance)\n",
    "    \n",
    "    \n",
    "    return input_dict\n",
    "                \n",
    "\n",
    "\n",
    "train_data = tran_form_dict(train_data)\n",
    "test_data = tran_form_dict(test_data)\n",
    "\n",
    "    \n",
    "    "
   ]
  },
  {
   "cell_type": "code",
   "execution_count": 14,
   "metadata": {},
   "outputs": [],
   "source": [
    "def euclidean_distance(x, y):\n",
    "    return np.sqrt(np.sum((np.array(x) - np.array(y))**2))\n",
    "\n"
   ]
  },
  {
   "cell_type": "code",
   "execution_count": 15,
   "metadata": {},
   "outputs": [],
   "source": [
    "def p_root(value, root):\n",
    "    root_value = 1 / float(root)\n",
    "    return round (Decimal(value) **\n",
    "             Decimal(root_value), 3) \n",
    "    \n",
    "    \n",
    "def Minkowsky_distance(x, y, p_value):\n",
    "    return (p_root(sum(pow(abs(a-b), p_value) \n",
    "            for a, b in zip(x, y)), p_value)) \n",
    "    \n",
    "    \n",
    "    "
   ]
  },
  {
   "cell_type": "code",
   "execution_count": 31,
   "metadata": {},
   "outputs": [],
   "source": [
    "def chi_squared_distance(x, y):\n",
    "    distance = []\n",
    "    for i in range(len(x)):\n",
    "        try:\n",
    "            distance.append(pow((x[i]-y[i]), 2) / (x[i] + y[i]))\n",
    "        except ZeroDivisionError:\n",
    "            pass\n",
    "    return sum(distance)\n",
    "        \n",
    "\n",
    "\n",
    "def manhattan_distance (x, y):\n",
    "    return sum(abs(x[i] - y[i])\n",
    "              for i in range(len(x)))\n",
    "    "
   ]
  },
  {
   "cell_type": "code",
   "execution_count": 25,
   "metadata": {},
   "outputs": [],
   "source": [
    "def k_nearest_neighbors(data, predict, k=1, distance_func=euclidean_distance, p_value=2):\n",
    "    \n",
    "    if len(data[0]) <= k:\n",
    "        print('Error: the k value is too big!')\n",
    "    distances = []\n",
    "    for group in data:\n",
    "        for instance in data[group]:\n",
    "            if distance_func != Minkowsky_distance:\n",
    "                distance = distance_func(instance, predict)\n",
    "            else:\n",
    "                distance = distance_func(instance, predict, p_value)\n",
    "            distances.append([distance,group])\n",
    "\n",
    "    votes = [i[1] for i in sorted(distances)[:k]]\n",
    "    \n",
    "    vote_result = Counter(votes).most_common(1)[0][0]\n",
    "    \n",
    "    return vote_result\n",
    "            \n",
    "# result = k_nearest_neighbors(new_data, [2, 1, 1, 0, 0, 0, 1, 0, 0, 1])\n",
    "# if result:\n",
    "#     print('You have breast cancer')\n",
    "# else:\n",
    "#     print(\"Don't worry...you don't have breast cancer\")"
   ]
  },
  {
   "cell_type": "code",
   "execution_count": 52,
   "metadata": {},
   "outputs": [],
   "source": [
    "def test_accuracy(test_data, distance_func, k=1, p_value=2):\n",
    "    y_test = []\n",
    "\n",
    "    #fill up the actual y values\n",
    "    for group in test_data:\n",
    "        for instance in test_data[group]:\n",
    "            y_test.append(instance[-1])\n",
    "\n",
    "    #fill up the y prediction list\n",
    "    y_pred = []\n",
    "    for group in test_data:\n",
    "        for instance in test_data[group]:\n",
    "            y_pred.append(k_nearest_neighbors(train_data, instance, k, distance_func, p_value))\n",
    "\n",
    "    #test the accuracy\n",
    "    truth_values = 0\n",
    "    for i in range(test_length):\n",
    "        if y_test[i] == y_pred[i]:\n",
    "            truth_values += 1\n",
    "\n",
    "    accuracy = truth_values/test_length\n",
    "    return accuracy\n",
    "\n",
    "\n",
    "euclidean_distances = []\n",
    "Minkowsky_distances = []\n",
    "chi_squared_distances = []\n",
    "manhattan_distances = []\n",
    "for k in range(1, 5):\n",
    "    distance_metrics = [euclidean_distance, Minkowsky_distance, chi_squared_distance, manhattan_distance]\n",
    "    accuracies = [test_accuracy(test_data, func, k) if func != Minkowsky_distance \n",
    "                  else test_accuracy(test_data, func, k, 2) for func in distance_metrics]\n",
    "    euclidean_distances.append(accuracies[0])\n",
    "    Minkowsky_distances.append(accuracies[1])\n",
    "    chi_squared_distances.append(accuracies[2])\n",
    "    manhattan_distances.append(accuracies[3])\n",
    "\n",
    "total = [euclidean_distances, Minkowsky_distances, chi_squared_distances, manhattan_distances]      "
   ]
  },
  {
   "cell_type": "code",
   "execution_count": 46,
   "metadata": {},
   "outputs": [
    {
     "data": {
      "image/png": "[encoded data removed]",
      "text/plain": [
       "<Figure size 1440x432 with 1 Axes>"
      ]
     },
     "metadata": {
      "needs_background": "light"
     },
     "output_type": "display_data"
    }
   ],
   "source": [
    "fig, ax = plt.subplots()\n",
    "ax.bar(x, euclidean_distances, color='b')\n",
    "ax.bar(x, Minkowsky_distances, color='g')\n",
    "ax.bar(x, chi_squared_distances, color='k')\n",
    "ax.bar(x, manhattan_distances, color='c')\n",
    "ax.set(ylim=[0.4, 0.8])\n",
    "plt.show()"
   ]
  },
  {
   "cell_type": "code",
   "execution_count": 53,
   "metadata": {},
   "outputs": [
    {
     "data": {
      "text/plain": [
       "<matplotlib.axes._subplots.AxesSubplot at 0x1a1ac79da0>"
      ]
     },
     "execution_count": 53,
     "metadata": {},
     "output_type": "execute_result"
    },
    {
     "data": {
      "image/png": "[encoded data removed]",
      "text/plain": [
       "<Figure size 1440x432 with 1 Axes>"
      ]
     },
     "metadata": {
      "needs_background": "light"
     },
     "output_type": "display_data"
    }
   ],
   "source": [
    "df = pd.DataFrame(total, columns=['euclidean_distance', 'Minkowsky_distance', 'chi_squared_distance', 'manhattan_distance'])\n",
    "df.plot.bar()\n",
    "\n",
    "\n"
   ]
  },
  {
   "cell_type": "code",
   "execution_count": null,
   "metadata": {},
   "outputs": [],
   "source": []
  },
  {
   "cell_type": "code",
   "execution_count": null,
   "metadata": {},
   "outputs": [],
   "source": []
  }
 ],
 "metadata": {
  "kernelspec": {
   "display_name": "Python 3",
   "language": "python",
   "name": "python3"
  },
  "language_info": {
   "codemirror_mode": {
    "name": "ipython",
    "version": 3
   },
   "file_extension": ".py",
   "mimetype": "text/x-python",
   "name": "python",
   "nbconvert_exporter": "python",
   "pygments_lexer": "ipython3",
   "version": "3.6.7"
  }
 },
 "nbformat": 4,
 "nbformat_minor": 2
}
